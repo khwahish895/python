{
 "cells": [
  {
   "cell_type": "code",
   "execution_count": 2,
   "id": "182d3560-fa8e-4be8-bc4d-4fbf67b5186f",
   "metadata": {},
   "outputs": [
    {
     "name": "stdout",
     "output_type": "stream",
     "text": [
      "Error: The file 'named.txt' does not exist.\n",
      "\n",
      "Updated Content:\n",
      "This is the new content of the file.\n",
      "Everything previously here has been replaced.\n"
     ]
    }
   ],
   "source": [
    "import os\n",
    "\n",
    "file_name = 'named.txt'\n",
    "\n",
    "# Step 1: Read and print original content\n",
    "try:\n",
    "    with open(file_name, 'r') as file:\n",
    "        original_content = file.read()\n",
    "        print(\"Original Content:\")\n",
    "        print(original_content)\n",
    "except FileNotFoundError:\n",
    "    print(f\"Error: The file '{file_name}' does not exist.\")\n",
    "    original_content = \"\"\n",
    "\n",
    "# Step 2: Write new content to the file\n",
    "new_content = \"This is the new content of the file.\\nEverything previously here has been replaced.\"\n",
    "try:\n",
    "    with open(file_name, 'w') as file:\n",
    "        file.write(new_content)\n",
    "except Exception as e:\n",
    "    print(f\"Error writing to file: {e}\")\n",
    "\n",
    "# Step 3: Read and print updated content\n",
    "try:\n",
    "    with open(file_name, 'r') as file:\n",
    "        updated_content = file.read()\n",
    "        print(\"\\nUpdated Content:\")\n",
    "        print(updated_content)\n",
    "except Exception as e:\n",
    "    print(f\"Error reading updated file: {e}\")"
   ]
  },
  {
   "cell_type": "code",
   "execution_count": 3,
   "id": "9f7e3796-4765-43bb-89b6-5d0c60a7c24a",
   "metadata": {},
   "outputs": [
    {
     "name": "stdout",
     "output_type": "stream",
     "text": [
      "Array: [ 1  2  3  4  5  6  7  8  9 10]\n",
      "Shape: (10,)\n",
      "Size: 10\n",
      "Data type: int32\n",
      "First 5 elements: [1 2 3 4 5]\n",
      "Modified array: [ 1  2  3  4  5  6  7 30 40 50]\n",
      "Sum: 148\n",
      "Mean: 14.8\n",
      "Standard Deviation: 17.174399552822802\n"
     ]
    }
   ],
   "source": [
    "import numpy as np\n",
    "\n",
    "# Create a 1D array with 10 numeric elements\n",
    "array = np.array([1, 2, 3, 4, 5, 6, 7, 8, 9, 10])\n",
    "\n",
    "# Print the full array and its basic properties\n",
    "print(\"Array:\", array)\n",
    "print(\"Shape:\", array.shape)\n",
    "print(\"Size:\", array.size)\n",
    "print(\"Data type:\", array.dtype)\n",
    "\n",
    "# Access and print the first 5 elements\n",
    "first_five_elements = array[:5]\n",
    "print(\"First 5 elements:\", first_five_elements)\n",
    "\n",
    "# Modify the last 3 elements of the array\n",
    "array[-3:] = [30, 40, 50]\n",
    "print(\"Modified array:\", array)\n",
    "\n",
    "# Calculate and print the sum, mean, and standard deviation of the array\n",
    "array_sum = np.sum(array)\n",
    "array_mean = np.mean(array)\n",
    "array_std = np.std(array)\n",
    "\n",
    "print(\"Sum:\", array_sum)\n",
    "print(\"Mean:\", array_mean)\n",
    "print(\"Standard Deviation:\", array_std)"
   ]
  },
  {
   "cell_type": "code",
   "execution_count": 6,
   "id": "c21f0697-2d09-4467-8ca6-cd2ac97393c2",
   "metadata": {},
   "outputs": [
    {
     "ename": "NameError",
     "evalue": "name '_name_' is not defined",
     "output_type": "error",
     "traceback": [
      "\u001b[1;31m---------------------------------------------------------------------------\u001b[0m",
      "\u001b[1;31mNameError\u001b[0m                                 Traceback (most recent call last)",
      "Cell \u001b[1;32mIn[6], line 16\u001b[0m\n\u001b[0;32m     13\u001b[0m     \u001b[38;5;28mprint\u001b[39m(\u001b[38;5;124m\"\u001b[39m\u001b[38;5;124mHello!\u001b[39m\u001b[38;5;124m\"\u001b[39m)  \u001b[38;5;66;03m# This function prints \"Hello!\"\u001b[39;00m\n\u001b[0;32m     15\u001b[0m \u001b[38;5;66;03m# Call the greet function\u001b[39;00m\n\u001b[1;32m---> 16\u001b[0m \u001b[38;5;28;01mif\u001b[39;00m _name_ \u001b[38;5;241m==\u001b[39m \u001b[38;5;124m\"\u001b[39m\u001b[38;5;124m_main_\u001b[39m\u001b[38;5;124m\"\u001b[39m:\n\u001b[0;32m     17\u001b[0m     greet()\n",
      "\u001b[1;31mNameError\u001b[0m: name '_name_' is not defined"
     ]
    }
   ],
   "source": []
  },
  {
   "cell_type": "code",
   "execution_count": 7,
   "id": "cc45cbe3-a85f-4419-a12b-46cf1c9d2116",
   "metadata": {},
   "outputs": [
    {
     "name": "stdout",
     "output_type": "stream",
     "text": [
      "Array: [10 20 30 40 50]\n",
      "Size: 5\n",
      "Shape: (5,)\n",
      "First 3 elements: [10 20 30]\n",
      "Array of zeros: [0. 0. 0. 0. 0.]\n",
      "Array of ones: [1. 1. 1. 1. 1.]\n"
     ]
    }
   ],
   "source": [
    "import numpy as np\n",
    "\n",
    "# Create a NumPy array from a regular Python list\n",
    "python_list = [10, 20, 30, 40, 50]\n",
    "array = np.array(python_list)\n",
    "\n",
    "# Print the size and shape of the array\n",
    "print(\"Array:\", array)\n",
    "print(\"Size:\", array.size)\n",
    "print(\"Shape:\", array.shape)\n",
    "\n",
    "# Use slicing to select specific values (e.g., first 3 elements)\n",
    "first_three_elements = array[:3]\n",
    "print(\"First 3 elements:\", first_three_elements)\n",
    "\n",
    "# Create an array filled with all zeros using np.zeros()\n",
    "zeros_array = np.zeros(5)  # Array of size 5 filled with zeros\n",
    "print(\"Array of zeros:\", zeros_array)\n",
    "\n",
    "# Create an array filled with all ones using np.ones()\n",
    "ones_array = np.ones(5)  # Array of size 5 filled with ones\n",
    "print(\"Array of ones:\", ones_array)"
   ]
  },
  {
   "cell_type": "code",
   "execution_count": 8,
   "id": "1d07581f-c5c4-4857-b07c-24ac09104c87",
   "metadata": {},
   "outputs": [
    {
     "name": "stdout",
     "output_type": "stream",
     "text": [
      "List of words: ['Python', 'is', 'powerful', 'and', 'easy', 'to', 'learn']\n",
      "Joined sentence: Python is powerful and easy to learn\n"
     ]
    }
   ],
   "source": [
    "# Given sentence\n",
    "sentence = \"Python is powerful and easy to learn\"\n",
    "\n",
    "# Use .split() to break it into a list of words\n",
    "words_list = sentence.split()\n",
    "print(\"List of words:\", words_list)\n",
    "\n",
    "# Use ' '.join() to join that list back into a single sentence\n",
    "joined_sentence = ' '.join(words_list)\n",
    "print(\"Joined sentence:\", joined_sentence)"
   ]
  },
  {
   "cell_type": "code",
   "execution_count": 9,
   "id": "7485b10b-8687-4bef-941e-4346bf49f115",
   "metadata": {},
   "outputs": [
    {
     "ename": "NameError",
     "evalue": "name '_name_' is not defined",
     "output_type": "error",
     "traceback": [
      "\u001b[1;31m---------------------------------------------------------------------------\u001b[0m",
      "\u001b[1;31mNameError\u001b[0m                                 Traceback (most recent call last)",
      "Cell \u001b[1;32mIn[9], line 16\u001b[0m\n\u001b[0;32m     13\u001b[0m     \u001b[38;5;28mprint\u001b[39m(\u001b[38;5;124m\"\u001b[39m\u001b[38;5;124mHello!\u001b[39m\u001b[38;5;124m\"\u001b[39m)  \u001b[38;5;66;03m# This function prints \"Hello!\"\u001b[39;00m\n\u001b[0;32m     15\u001b[0m \u001b[38;5;66;03m# Call the greet function\u001b[39;00m\n\u001b[1;32m---> 16\u001b[0m \u001b[38;5;28;01mif\u001b[39;00m _name_ \u001b[38;5;241m==\u001b[39m \u001b[38;5;124m\"\u001b[39m\u001b[38;5;124m_main_\u001b[39m\u001b[38;5;124m\"\u001b[39m:\n\u001b[0;32m     17\u001b[0m     greet()\n",
      "\u001b[1;31mNameError\u001b[0m: name '_name_' is not defined"
     ]
    }
   ],
   "source": [
    "# simple_decorator.py\n",
    "\n",
    "# Define the decorator function\n",
    "def simple_decorator(func):\n",
    "    def wrapper():\n",
    "        print(\"Start\")  # Print \"Start\" before running the actual function\n",
    "        func()          # Call the actual function\n",
    "    return wrapper\n",
    "\n",
    "# Create a function named greet\n",
    "@simple_decorator\n",
    "def greet():\n",
    "    print(\"Hello!\")  # This function prints \"Hello!\"\n",
    "\n",
    "# Call the greet function\n",
    "if _name_ == \"_main_\":\n",
    "    greet()  # This will execute the greet function"
   ]
  },
  {
   "cell_type": "code",
   "execution_count": 10,
   "id": "0ce441d0-e2e9-4fdf-933d-267d51504889",
   "metadata": {},
   "outputs": [
    {
     "ename": "NameError",
     "evalue": "name '_name_' is not defined",
     "output_type": "error",
     "traceback": [
      "\u001b[1;31m---------------------------------------------------------------------------\u001b[0m",
      "\u001b[1;31mNameError\u001b[0m                                 Traceback (most recent call last)",
      "Cell \u001b[1;32mIn[10], line 16\u001b[0m\n\u001b[0;32m     13\u001b[0m     \u001b[38;5;28mprint\u001b[39m(\u001b[38;5;124m\"\u001b[39m\u001b[38;5;124mHello!\u001b[39m\u001b[38;5;124m\"\u001b[39m)  \u001b[38;5;66;03m# This function prints \"Hello!\"\u001b[39;00m\n\u001b[0;32m     15\u001b[0m \u001b[38;5;66;03m# Call the greet function\u001b[39;00m\n\u001b[1;32m---> 16\u001b[0m \u001b[38;5;28;01mif\u001b[39;00m _name_ \u001b[38;5;241m==\u001b[39m \u001b[38;5;124m\"\u001b[39m\u001b[38;5;124m_main_\u001b[39m\u001b[38;5;124m\"\u001b[39m:\n\u001b[0;32m     17\u001b[0m     greet()\n",
      "\u001b[1;31mNameError\u001b[0m: name '_name_' is not defined"
     ]
    }
   ],
   "source": [
    "# simple_decorator.py\n",
    "\n",
    "# Define the decorator function\n",
    "def simple_decorator(func):\n",
    "    def wrapper():\n",
    "        print(\"Start\")  # Print \"Start\" before running the actual function\n",
    "        func()          # Call the actual function\n",
    "    return wrapper\n",
    "\n",
    "# Create a function named greet\n",
    "@simple_decorator\n",
    "def greet():\n",
    "    print(\"Hello!\")  # This function prints \"Hello!\"\n",
    "\n",
    "# Call the greet function\n",
    "if _name_ == \"_main_\":\n",
    "    greet()  # This will execute the greet function"
   ]
  },
  {
   "cell_type": "code",
   "execution_count": 11,
   "id": "125a1bd3-5102-4e7a-85a1-5e19640d98c7",
   "metadata": {},
   "outputs": [
    {
     "name": "stdout",
     "output_type": "stream",
     "text": [
      "Start\n",
      "Hello!\n"
     ]
    }
   ],
   "source": [
    "# simple_decorator.py\n",
    "\n",
    "# Define the decorator function\n",
    "def simple_decorator(func):\n",
    "    def wrapper():\n",
    "        print(\"Start\")  # Print \"Start\" before running the actual function\n",
    "        func()          # Call the actual function\n",
    "    return wrapper\n",
    "\n",
    "# Create a function named greet\n",
    "@simple_decorator\n",
    "def greet():\n",
    "    print(\"Hello!\")  # This function prints \"Hello!\"\n",
    "\n",
    "# Call the greet function\n",
    "if __name__ == \"__main__\":\n",
    "    greet()  # This will execute the greet function\n"
   ]
  },
  {
   "cell_type": "code",
   "execution_count": null,
   "id": "7394a7e5-c062-4260-bf82-367384888a2c",
   "metadata": {},
   "outputs": [],
   "source": [
    "1"
   ]
  }
 ],
 "metadata": {
  "kernelspec": {
   "display_name": "Python 3 (ipykernel)",
   "language": "python",
   "name": "python3"
  },
  "language_info": {
   "codemirror_mode": {
    "name": "ipython",
    "version": 3
   },
   "file_extension": ".py",
   "mimetype": "text/x-python",
   "name": "python",
   "nbconvert_exporter": "python",
   "pygments_lexer": "ipython3",
   "version": "3.12.3"
  }
 },
 "nbformat": 4,
 "nbformat_minor": 5
}
