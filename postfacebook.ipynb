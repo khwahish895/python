{
 "cells": [
  {
   "cell_type": "code",
   "execution_count": null,
   "id": "01843219-b670-459a-b395-11ce98b5876e",
   "metadata": {},
   "outputs": [],
   "source": [
    "from selenium import webdriver\n",
    "from selenium.webdriver.common.by import By\n",
    "from selenium.webdriver.common.keys import Keys\n",
    "import time\n",
    "\n",
    "# Facebook credentials (Update these)\n",
    "EMAIL = \"your_email@example.com\"\n",
    "PASSWORD = \"your_password\"\n",
    "MESSAGE = \"This is an automated Facebook post using Python!\"\n",
    "\n",
    "# Initialize Chrome (make sure ChromeDriver is in PATH)\n",
    "driver = webdriver.Chrome()\n",
    "\n",
    "try:\n",
    "    # Open Facebook\n",
    "    driver.get(\"https://www.facebook.com\")\n",
    "    time.sleep(3)\n",
    "\n",
    "    # Login\n",
    "    email_field = driver.find_element(By.ID, \"email\")\n",
    "    password_field = driver.find_element(By.ID, \"pass\")\n",
    "\n",
    "    email_field.send_keys(EMAIL)\n",
    "    password_field.send_keys(PASSWORD)\n",
    "    password_field.send_keys(Keys.RETURN)  # Press Enter to login\n",
    "    time.sleep(5)  # Wait for login\n",
    "\n",
    "    # Go to profile (required for posting)\n",
    "    driver.get(f\"https://www.facebook.com/profile\")  # Replace if needed\n",
    "    time.sleep(3)\n",
    "\n",
    "    # Click \"Create Post\"\n",
    "    post_box = driver.find_element(By.XPATH, \"//span[contains(text(), 'Create post')]\")\n",
    "    post_box.click()\n",
    "    time.sleep(2)\n",
    "\n",
    "    # Write message\n",
    "    message_box = driver.find_element(By.XPATH, \"//div[@aria-label='Create a post']\")\n",
    "    message_box.click()\n",
    "    message_box.send_keys(MESSAGE)\n",
    "    time.sleep(2)\n",
    "\n",
    "    # Click Post button\n",
    "    post_button = driver.find_element(By.XPATH, \"//div[@aria-label='Post']\")\n",
    "    post_button.click()\n",
    "    time.sleep(5)\n",
    "\n",
    "    print(\"[SUCCESS] Facebook post published successfully!\")\n",
    "except Exception as e:\n",
    "    print(f\"[ERROR] Something went wrong: {e}\")\n",
    "finally:\n",
    "    driver.quit()  # Close browser\n"
   ]
  }
 ],
 "metadata": {
  "kernelspec": {
   "display_name": "Python 3 (ipykernel)",
   "language": "python",
   "name": "python3"
  },
  "language_info": {
   "codemirror_mode": {
    "name": "ipython",
    "version": 3
   },
   "file_extension": ".py",
   "mimetype": "text/x-python",
   "name": "python",
   "nbconvert_exporter": "python",
   "pygments_lexer": "ipython3",
   "version": "3.12.3"
  }
 },
 "nbformat": 4,
 "nbformat_minor": 5
}
