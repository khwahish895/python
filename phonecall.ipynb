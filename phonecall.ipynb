{
 "cells": [
  {
   "cell_type": "code",
   "execution_count": null,
   "id": "8684a60b-a581-4994-80ef-446caf45359f",
   "metadata": {},
   "outputs": [],
   "source": [
    "from twilio.rest import Client\n",
    "\n",
    "\n",
    "account_sid = 'ACcb2ce42f2a0fa69acb693fcf558df7d5'\n",
    "auth_token = '027009c514ed7410170c4a1483c4a330'\n",
    "\n",
    "client = Client(account_sid, auth_token)\n",
    "\n",
    "\n",
    "call = client.calls.create(\n",
    "    to='+917424988589',                \n",
    "    from_='+14133076986',              # Your Twilio number\n",
    "    twiml='<Response><Say>Hello! This is a test call from Python using Twilio.</Say></Response>'\n",
    ")\n",
    "\n",
    "print(\"📞 Call initiated successfully!\")\n",
    "print(\"Call SID:\", call.sid)\n"
   ]
  }
 ],
 "metadata": {
  "kernelspec": {
   "display_name": "Python 3 (ipykernel)",
   "language": "python",
   "name": "python3"
  },
  "language_info": {
   "codemirror_mode": {
    "name": "ipython",
    "version": 3
   },
   "file_extension": ".py",
   "mimetype": "text/x-python",
   "name": "python",
   "nbconvert_exporter": "python",
   "pygments_lexer": "ipython3",
   "version": "3.12.3"
  }
 },
 "nbformat": 4,
 "nbformat_minor": 5
}
