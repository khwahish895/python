{
 "cells": [
  {
   "cell_type": "code",
   "execution_count": null,
   "id": "4142a701-ed57-4432-a053-1f9abf3301a1",
   "metadata": {},
   "outputs": [],
   "source": [
    "import os\n",
    "import schedule\n",
    "import time\n",
    "\n",
    "def shutdown():\n",
    "    os.system(\"shutdown /s /t 0\")\n",
    "\n",
    "# Schedule at specific time\n",
    "schedule.every().day.at(\"23:00\").do(shutdown)\n",
    "\n",
    "print(\"Auto shutdown scheduler running...\")\n",
    "\n",
    "while True:\n",
    "    schedule.run_pending()\n",
    "    time.sleep(1)\n"
   ]
  }
 ],
 "metadata": {
  "kernelspec": {
   "display_name": "Python 3 (ipykernel)",
   "language": "python",
   "name": "python3"
  },
  "language_info": {
   "codemirror_mode": {
    "name": "ipython",
    "version": 3
   },
   "file_extension": ".py",
   "mimetype": "text/x-python",
   "name": "python",
   "nbconvert_exporter": "python",
   "pygments_lexer": "ipython3",
   "version": "3.12.3"
  }
 },
 "nbformat": 4,
 "nbformat_minor": 5
}
