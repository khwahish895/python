{
 "cells": [
  {
   "cell_type": "code",
   "execution_count": 4,
   "id": "3c79cce8-ba2b-41c3-aed0-e79545396ea7",
   "metadata": {},
   "outputs": [],
   "source": [
    "# my_app.py\n",
    "import streamlit as st\n",
    "\n",
    "st.title(\"Hello from Streamlit\")\n",
    "st.write(\"This is a test app running from a script.\")\n"
   ]
  },
  {
   "cell_type": "code",
   "execution_count": null,
   "id": "250506ac-2265-40f7-82eb-3330322e20a7",
   "metadata": {},
   "outputs": [],
   "source": []
  },
  {
   "cell_type": "code",
   "execution_count": null,
   "id": "17c15c5b-d85f-49ea-aeb2-7b2883c81492",
   "metadata": {},
   "outputs": [],
   "source": []
  }
 ],
 "metadata": {
  "kernelspec": {
   "display_name": "Python 3 (ipykernel)",
   "language": "python",
   "name": "python3"
  },
  "language_info": {
   "codemirror_mode": {
    "name": "ipython",
    "version": 3
   },
   "file_extension": ".py",
   "mimetype": "text/x-python",
   "name": "python",
   "nbconvert_exporter": "python",
   "pygments_lexer": "ipython3",
   "version": "3.12.3"
  }
 },
 "nbformat": 4,
 "nbformat_minor": 5
}
