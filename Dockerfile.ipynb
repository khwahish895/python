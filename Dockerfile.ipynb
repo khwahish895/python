{
 "cells": [
  {
   "cell_type": "code",
   "execution_count": null,
   "id": "7c66a8ff-8bd1-4359-90c2-58f6e58e0421",
   "metadata": {},
   "outputs": [],
   "source": [
    "# Use official Python image\n",
    "FROM python:3.11\n",
    "\n",
    "# Set work directory\n",
    "WORKDIR /app\n",
    "\n",
    "# Copy files\n",
    "COPY linear_regression.py .\n",
    "\n",
    "# Install dependencies\n",
    "RUN pip install scikit-learn numpy\n",
    "\n",
    "# Run the script\n",
    "CMD [\"python\", \"linear_regression.py\"]\n"
   ]
  }
 ],
 "metadata": {
  "kernelspec": {
   "display_name": "Python 3 (ipykernel)",
   "language": "python",
   "name": "python3"
  },
  "language_info": {
   "codemirror_mode": {
    "name": "ipython",
    "version": 3
   },
   "file_extension": ".py",
   "mimetype": "text/x-python",
   "name": "python",
   "nbconvert_exporter": "python",
   "pygments_lexer": "ipython3",
   "version": "3.12.3"
  }
 },
 "nbformat": 4,
 "nbformat_minor": 5
}
