{
 "cells": [
  {
   "cell_type": "code",
   "execution_count": 5,
   "id": "5f6b658b-8ad6-4975-abf5-416e61460a88",
   "metadata": {},
   "outputs": [],
   "source": [
    "import socket, ssl\n",
    "\n",
    "class RawEmailSender:\n",
    "    def __init__(self, smtp_host, smtp_port=25):\n",
    "        self.server = (smtp_host, smtp_port)\n",
    "\n",
    "    def send(self, from_addr, to_addr, subject, body):\n",
    "        sock = socket.socket(socket.AF_INET, socket.SOCK_STREAM)\n",
    "        sock.connect(self.server)\n",
    "        recv = sock.recv(1024).decode()\n",
    "        if not recv.startswith('220'): raise Exception(\"SMTP connect failed\")\n",
    "\n",
    "        def cmd(c): sock.send((c+\"\\r\\n\").encode()); return sock.recv(1024).decode()\n",
    "\n",
    "        cmd(f\"EHLO {socket.gethostname()}\")\n",
    "        cmd(f\"MAIL FROM:<{from_addr}>\")\n",
    "        cmd(f\"RCPT TO:<{to_addr}>\")\n",
    "        cmd(\"DATA\")\n",
    "        msg = f\"Subject: {subject}\\r\\n\\r\\n{body}\\r\\n.\"\n",
    "        sock.send((msg+\"\\r\\n\").encode())\n",
    "        cmd(\"QUIT\")\n",
    "        sock.close()\n"
   ]
  },
  {
   "cell_type": "code",
   "execution_count": null,
   "id": "e98f7def-6cc5-41f3-904d-d217304dda05",
   "metadata": {},
   "outputs": [],
   "source": []
  },
  {
   "cell_type": "code",
   "execution_count": 4,
   "id": "6581f45b-7112-410f-8eb4-5a3974df1b9b",
   "metadata": {},
   "outputs": [],
   "source": [
    "import webbrowser, time\n",
    "import urllib.parse\n",
    "\n",
    "class RawWhatsAppSender:\n",
    "    def send(self, phone, message):\n",
    "        url = (\"whatsapp://send?phone=\" + phone +\n",
    "               \"&text=\" + urllib.parse.quote(message))\n",
    "        webbrowser.open(url)\n",
    "        time.sleep(10) "
   ]
  },
  {
   "cell_type": "code",
   "execution_count": null,
   "id": "fee46c71-cfe4-4df6-890f-105f78b9d0b8",
   "metadata": {},
   "outputs": [],
   "source": []
  },
  {
   "cell_type": "code",
   "execution_count": 2,
   "id": "f0173361-8c35-411e-b1a7-c5ab114366dd",
   "metadata": {},
   "outputs": [],
   "source": [
    "from urllib.parse import urlencode\n",
    "import http.client\n",
    "import json\n",
    "\n",
    "class RawInstagramSender:\n",
    "    def __init__(self, session_cookies):\n",
    "        self.cookies = session_cookies\n",
    "\n",
    "    def send(self, user_id, message):\n",
    "        conn = http.client.HTTPSConnection(\"i.instagram.com\")\n",
    "        payload = urlencode({\n",
    "            'recipient_users': f'[[{user_id}]]',\n",
    "            'action': 'send_item',\n",
    "            'client_context': str(int(time.time()))\n",
    "        })\n",
    "        payload = payload + '&text=' + urllib.parse.quote(message)\n",
    "        headers = {\n",
    "            'Content-Type': 'application/x-www-form-urlencoded',\n",
    "            'Cookie': self.cookies\n",
    "        }\n",
    "        conn.request(\"POST\", \"/api/v1/direct_v2/threads/broadcast/text/\", payload, headers)\n",
    "        res = conn.getresponse()\n",
    "        return res.status, res.read().decode()\n"
   ]
  },
  {
   "cell_type": "code",
   "execution_count": null,
   "id": "40c2dd89-99dc-4979-9f57-483423aaaee4",
   "metadata": {},
   "outputs": [],
   "source": [
    "\n",
    "\n",
    "\n"
   ]
  },
  {
   "cell_type": "code",
   "execution_count": 3,
   "id": "34b2ce64-d5b2-4836-8055-e6804534819c",
   "metadata": {},
   "outputs": [
    {
     "ename": "NameError",
     "evalue": "name 'RawWhatsAppSender' is not defined",
     "output_type": "error",
     "traceback": [
      "\u001b[1;31m---------------------------------------------------------------------------\u001b[0m",
      "\u001b[1;31mNameError\u001b[0m                                 Traceback (most recent call last)",
      "Cell \u001b[1;32mIn[3], line 1\u001b[0m\n\u001b[1;32m----> 1\u001b[0m \u001b[38;5;28;01mclass\u001b[39;00m \u001b[38;5;21;01mMultiMessenger\u001b[39;00m(RawEmailSender, RawWhatsAppSender, RawInstagramSender):\n\u001b[0;32m      2\u001b[0m     \u001b[38;5;28;01mdef\u001b[39;00m \u001b[38;5;21m__init__\u001b[39m(\u001b[38;5;28mself\u001b[39m, smtp_host, session_cookies):\n\u001b[0;32m      3\u001b[0m         RawEmailSender\u001b[38;5;241m.\u001b[39m\u001b[38;5;21m__init__\u001b[39m(\u001b[38;5;28mself\u001b[39m, smtp_host)\n",
      "\u001b[1;31mNameError\u001b[0m: name 'RawWhatsAppSender' is not defined"
     ]
    }
   ],
   "source": [
    "class MultiMessenger(RawEmailSender, RawWhatsAppSender, RawInstagramSender):\n",
    "    def __init__(self, smtp_host, session_cookies):\n",
    "        RawEmailSender.__init__(self, smtp_host)\n",
    "        RawWhatsAppSender.__init__(self)\n",
    "        RawInstagramSender.__init__(self, session_cookies)\n",
    "\n"
   ]
  },
  {
   "cell_type": "code",
   "execution_count": null,
   "id": "f238d4d3-08ee-4774-b3ef-4c7670ad3565",
   "metadata": {},
   "outputs": [],
   "source": []
  },
  {
   "cell_type": "code",
   "execution_count": null,
   "id": "41dbe96a-c24c-485b-8103-1528f0a0a4aa",
   "metadata": {},
   "outputs": [],
   "source": [
    "\n",
    "\n",
    "def main():\n",
    "    smtp_host = 'smtp.example.com' \n",
    "    insta_cookies = 'sessionid=ABC123; csrftoken=XYZ789;'  \n",
    "    \n",
    " \n",
    "    bot = MultiMessenger(smtp_host=smtp_host, session_cookies=insta_cookies)\n",
    "    \n",
    "   \n",
    "    try:\n",
    "        bot.send(\n",
    "            from_addr='khwahishsingh2005@gmail.com',\n",
    "            to_addr='khwahishsingh2005@gmail.com',\n",
    "            subject='Hello from Python',\n",
    "            body='This is a test email sent using raw SMTP sockets.'\n",
    "        )\n",
    "        print(\"Email sent successfully\")\n",
    "    except Exception as e:\n",
    "        print(\" Failed to send email:\", e)\n",
    "    \n",
    "    \n",
    "    bot.send_whatsapp(phone='+917424988589', message='Hello via WhatsApp link!')\n",
    "    print(\" WhatsApp opened — please click 'Send' manually.\")\n",
    "    \n",
    "  \n",
    "    status, response = bot.send(user_id='khwahish5632', message='Hello via raw Instagram DM!')\n",
    "    if status == 200:\n",
    "        print(\" Instagram DM sent successfully\")\n",
    "    else:\n",
    "        print(f\" Failed to send Instagram DM (status {status}): {response}\")\n",
    "\n",
    "if __name__ == \"__main__\":\n",
    "    main()\n"
   ]
  },
  {
   "cell_type": "code",
   "execution_count": null,
   "id": "0c380ec4-bb81-4046-9a62-6cb528efff61",
   "metadata": {},
   "outputs": [],
   "source": []
  }
 ],
 "metadata": {
  "kernelspec": {
   "display_name": "Python 3 (ipykernel)",
   "language": "python",
   "name": "python3"
  },
  "language_info": {
   "codemirror_mode": {
    "name": "ipython",
    "version": 3
   },
   "file_extension": ".py",
   "mimetype": "text/x-python",
   "name": "python",
   "nbconvert_exporter": "python",
   "pygments_lexer": "ipython3",
   "version": "3.12.3"
  }
 },
 "nbformat": 4,
 "nbformat_minor": 5
}
