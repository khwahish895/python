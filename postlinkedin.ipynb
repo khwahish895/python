{
 "cells": [
  {
   "cell_type": "code",
   "execution_count": 5,
   "id": "b3903ec7-b9d3-419b-984a-cf36296b2609",
   "metadata": {},
   "outputs": [
    {
     "ename": "NoSuchElementException",
     "evalue": "Message: no such element: Unable to locate element: {\"method\":\"css selector\",\"selector\":\".share-box-feed-entry__trigger\"}\n  (Session info: chrome=137.0.7151.120); For documentation on this error, please visit: https://www.selenium.dev/documentation/webdriver/troubleshooting/errors#nosuchelementexception\nStacktrace:\n\tGetHandleVerifier [0x0x7ff7683acda5+78885]\n\tGetHandleVerifier [0x0x7ff7683ace00+78976]\n\t(No symbol) [0x0x7ff768169bca]\n\t(No symbol) [0x0x7ff7681c0766]\n\t(No symbol) [0x0x7ff7681c0a1c]\n\t(No symbol) [0x0x7ff768214467]\n\t(No symbol) [0x0x7ff7681e8bcf]\n\t(No symbol) [0x0x7ff76821122f]\n\t(No symbol) [0x0x7ff7681e8963]\n\t(No symbol) [0x0x7ff7681b16b1]\n\t(No symbol) [0x0x7ff7681b2443]\n\tGetHandleVerifier [0x0x7ff768684eed+3061101]\n\tGetHandleVerifier [0x0x7ff76867f33d+3037629]\n\tGetHandleVerifier [0x0x7ff76869e592+3165202]\n\tGetHandleVerifier [0x0x7ff7683c730e+186766]\n\tGetHandleVerifier [0x0x7ff7683ceb3f+217535]\n\tGetHandleVerifier [0x0x7ff7683b59b4+114740]\n\tGetHandleVerifier [0x0x7ff7683b5b69+115177]\n\tGetHandleVerifier [0x0x7ff76839c368+10728]\n\tBaseThreadInitThunk [0x0x7ffa8f8de8d7+23]\n\tRtlUserThreadStart [0x0x7ffa9057c34c+44]\n",
     "output_type": "error",
     "traceback": [
      "\u001b[1;31m---------------------------------------------------------------------------\u001b[0m",
      "\u001b[1;31mNoSuchElementException\u001b[0m                    Traceback (most recent call last)",
      "Cell \u001b[1;32mIn[5], line 12\u001b[0m\n\u001b[0;32m     10\u001b[0m time\u001b[38;5;241m.\u001b[39msleep(\u001b[38;5;241m5\u001b[39m)\n\u001b[0;32m     11\u001b[0m d\u001b[38;5;241m.\u001b[39mget(\u001b[38;5;124m'\u001b[39m\u001b[38;5;124mhttps://www.linkedin.com/feed/\u001b[39m\u001b[38;5;124m'\u001b[39m)\n\u001b[1;32m---> 12\u001b[0m d\u001b[38;5;241m.\u001b[39mfind_element(By\u001b[38;5;241m.\u001b[39mCLASS_NAME, \u001b[38;5;124m'\u001b[39m\u001b[38;5;124mshare-box-feed-entry__trigger\u001b[39m\u001b[38;5;124m'\u001b[39m)\u001b[38;5;241m.\u001b[39mclick()\n\u001b[0;32m     13\u001b[0m time\u001b[38;5;241m.\u001b[39msleep(\u001b[38;5;241m2\u001b[39m)\n\u001b[0;32m     14\u001b[0m d\u001b[38;5;241m.\u001b[39mfind_element(By\u001b[38;5;241m.\u001b[39mCLASS_NAME, \u001b[38;5;124m'\u001b[39m\u001b[38;5;124mql-editor\u001b[39m\u001b[38;5;124m'\u001b[39m)\u001b[38;5;241m.\u001b[39msend_keys(\u001b[38;5;124m'\u001b[39m\u001b[38;5;124mAutomated post! #Python\u001b[39m\u001b[38;5;124m'\u001b[39m)\n",
      "File \u001b[1;32m~\\anaconda3\\Lib\\site-packages\\selenium\\webdriver\\remote\\webdriver.py:922\u001b[0m, in \u001b[0;36mWebDriver.find_element\u001b[1;34m(self, by, value)\u001b[0m\n\u001b[0;32m    919\u001b[0m         \u001b[38;5;28;01mraise\u001b[39;00m NoSuchElementException(\u001b[38;5;124mf\u001b[39m\u001b[38;5;124m\"\u001b[39m\u001b[38;5;124mCannot locate relative element with: \u001b[39m\u001b[38;5;132;01m{\u001b[39;00mby\u001b[38;5;241m.\u001b[39mroot\u001b[38;5;132;01m}\u001b[39;00m\u001b[38;5;124m\"\u001b[39m)\n\u001b[0;32m    920\u001b[0m     \u001b[38;5;28;01mreturn\u001b[39;00m elements[\u001b[38;5;241m0\u001b[39m]\n\u001b[1;32m--> 922\u001b[0m \u001b[38;5;28;01mreturn\u001b[39;00m \u001b[38;5;28mself\u001b[39m\u001b[38;5;241m.\u001b[39mexecute(Command\u001b[38;5;241m.\u001b[39mFIND_ELEMENT, {\u001b[38;5;124m\"\u001b[39m\u001b[38;5;124musing\u001b[39m\u001b[38;5;124m\"\u001b[39m: by, \u001b[38;5;124m\"\u001b[39m\u001b[38;5;124mvalue\u001b[39m\u001b[38;5;124m\"\u001b[39m: value})[\u001b[38;5;124m\"\u001b[39m\u001b[38;5;124mvalue\u001b[39m\u001b[38;5;124m\"\u001b[39m]\n",
      "File \u001b[1;32m~\\anaconda3\\Lib\\site-packages\\selenium\\webdriver\\remote\\webdriver.py:454\u001b[0m, in \u001b[0;36mWebDriver.execute\u001b[1;34m(self, driver_command, params)\u001b[0m\n\u001b[0;32m    451\u001b[0m response \u001b[38;5;241m=\u001b[39m cast(RemoteConnection, \u001b[38;5;28mself\u001b[39m\u001b[38;5;241m.\u001b[39mcommand_executor)\u001b[38;5;241m.\u001b[39mexecute(driver_command, params)\n\u001b[0;32m    453\u001b[0m \u001b[38;5;28;01mif\u001b[39;00m response:\n\u001b[1;32m--> 454\u001b[0m     \u001b[38;5;28mself\u001b[39m\u001b[38;5;241m.\u001b[39merror_handler\u001b[38;5;241m.\u001b[39mcheck_response(response)\n\u001b[0;32m    455\u001b[0m     response[\u001b[38;5;124m\"\u001b[39m\u001b[38;5;124mvalue\u001b[39m\u001b[38;5;124m\"\u001b[39m] \u001b[38;5;241m=\u001b[39m \u001b[38;5;28mself\u001b[39m\u001b[38;5;241m.\u001b[39m_unwrap_value(response\u001b[38;5;241m.\u001b[39mget(\u001b[38;5;124m\"\u001b[39m\u001b[38;5;124mvalue\u001b[39m\u001b[38;5;124m\"\u001b[39m, \u001b[38;5;28;01mNone\u001b[39;00m))\n\u001b[0;32m    456\u001b[0m     \u001b[38;5;28;01mreturn\u001b[39;00m response\n",
      "File \u001b[1;32m~\\anaconda3\\Lib\\site-packages\\selenium\\webdriver\\remote\\errorhandler.py:232\u001b[0m, in \u001b[0;36mErrorHandler.check_response\u001b[1;34m(self, response)\u001b[0m\n\u001b[0;32m    230\u001b[0m         alert_text \u001b[38;5;241m=\u001b[39m value[\u001b[38;5;124m\"\u001b[39m\u001b[38;5;124malert\u001b[39m\u001b[38;5;124m\"\u001b[39m]\u001b[38;5;241m.\u001b[39mget(\u001b[38;5;124m\"\u001b[39m\u001b[38;5;124mtext\u001b[39m\u001b[38;5;124m\"\u001b[39m)\n\u001b[0;32m    231\u001b[0m     \u001b[38;5;28;01mraise\u001b[39;00m exception_class(message, screen, stacktrace, alert_text)  \u001b[38;5;66;03m# type: ignore[call-arg]  # mypy is not smart enough here\u001b[39;00m\n\u001b[1;32m--> 232\u001b[0m \u001b[38;5;28;01mraise\u001b[39;00m exception_class(message, screen, stacktrace)\n",
      "\u001b[1;31mNoSuchElementException\u001b[0m: Message: no such element: Unable to locate element: {\"method\":\"css selector\",\"selector\":\".share-box-feed-entry__trigger\"}\n  (Session info: chrome=137.0.7151.120); For documentation on this error, please visit: https://www.selenium.dev/documentation/webdriver/troubleshooting/errors#nosuchelementexception\nStacktrace:\n\tGetHandleVerifier [0x0x7ff7683acda5+78885]\n\tGetHandleVerifier [0x0x7ff7683ace00+78976]\n\t(No symbol) [0x0x7ff768169bca]\n\t(No symbol) [0x0x7ff7681c0766]\n\t(No symbol) [0x0x7ff7681c0a1c]\n\t(No symbol) [0x0x7ff768214467]\n\t(No symbol) [0x0x7ff7681e8bcf]\n\t(No symbol) [0x0x7ff76821122f]\n\t(No symbol) [0x0x7ff7681e8963]\n\t(No symbol) [0x0x7ff7681b16b1]\n\t(No symbol) [0x0x7ff7681b2443]\n\tGetHandleVerifier [0x0x7ff768684eed+3061101]\n\tGetHandleVerifier [0x0x7ff76867f33d+3037629]\n\tGetHandleVerifier [0x0x7ff76869e592+3165202]\n\tGetHandleVerifier [0x0x7ff7683c730e+186766]\n\tGetHandleVerifier [0x0x7ff7683ceb3f+217535]\n\tGetHandleVerifier [0x0x7ff7683b59b4+114740]\n\tGetHandleVerifier [0x0x7ff7683b5b69+115177]\n\tGetHandleVerifier [0x0x7ff76839c368+10728]\n\tBaseThreadInitThunk [0x0x7ffa8f8de8d7+23]\n\tRtlUserThreadStart [0x0x7ffa9057c34c+44]\n"
     ]
    }
   ],
   "source": [
    "from selenium import webdriver\n",
    "from selenium.webdriver.common.by import By\n",
    "from selenium.webdriver.common.keys import Keys\n",
    "import time\n",
    "\n",
    "d = webdriver.Chrome()\n",
    "d.get('https://www.linkedin.com/login')\n",
    "d.find_element(By.ID, 'username').send_keys('Khwahish singh')\n",
    "d.find_element(By.ID, 'password').send_keys('MEENAKSHI' + Keys.RETURN)\n",
    "time.sleep(5)\n",
    "d.get('https://www.linkedin.com/feed/')\n",
    "d.find_element(By.CLASS_NAME, 'share-box-feed-entry__trigger').click()\n",
    "time.sleep(2)\n",
    "d.find_element(By.CLASS_NAME, 'ql-editor').send_keys('Automated post! #Python')\n",
    "d.find_element(By.XPATH, \"//button[contains(@aria-label, 'Post')]\").click()\n",
    "d.quit()\n"
   ]
  },
  {
   "cell_type": "code",
   "execution_count": null,
   "id": "c7ba2a55-6f6a-492d-97b4-bf9720a5be8e",
   "metadata": {},
   "outputs": [],
   "source": [
    "\n"
   ]
  },
  {
   "cell_type": "code",
   "execution_count": null,
   "id": "f2f202f3-edec-4d69-a645-42e7f1e838d8",
   "metadata": {},
   "outputs": [],
   "source": []
  }
 ],
 "metadata": {
  "kernelspec": {
   "display_name": "Python 3 (ipykernel)",
   "language": "python",
   "name": "python3"
  },
  "language_info": {
   "codemirror_mode": {
    "name": "ipython",
    "version": 3
   },
   "file_extension": ".py",
   "mimetype": "text/x-python",
   "name": "python",
   "nbconvert_exporter": "python",
   "pygments_lexer": "ipython3",
   "version": "3.12.3"
  }
 },
 "nbformat": 4,
 "nbformat_minor": 5
}
