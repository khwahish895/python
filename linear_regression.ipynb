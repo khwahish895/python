{
 "cells": [
  {
   "cell_type": "code",
   "execution_count": 1,
   "id": "9c937b16-3b64-437a-945b-3c198a06e90e",
   "metadata": {},
   "outputs": [
    {
     "name": "stdout",
     "output_type": "stream",
     "text": [
      "Coefficient (slope): 2.0000000000000004\n",
      "Intercept: 0.9999999999999982\n",
      "Prediction for input 6: 13.000000000000002\n"
     ]
    }
   ],
   "source": [
    "import numpy as np\n",
    "from sklearn.linear_model import LinearRegression\n",
    "\n",
    "# Example data: y = 2*x + 1\n",
    "X = np.array([[1], [2], [3], [4], [5]])\n",
    "y = np.array([3, 5, 7, 9, 11])\n",
    "\n",
    "# Create model and fit\n",
    "model = LinearRegression()\n",
    "model.fit(X, y)\n",
    "\n",
    "print(\"Coefficient (slope):\", model.coef_[0])\n",
    "print(\"Intercept:\", model.intercept_)\n",
    "\n",
    "# Predict\n",
    "X_new = np.array([[6]])\n",
    "y_pred = model.predict(X_new)\n",
    "print(f\"Prediction for input {X_new.flatten()[0]}: {y_pred[0]}\")\n"
   ]
  },
  {
   "cell_type": "code",
   "execution_count": null,
   "id": "da98145c-2b32-4274-93c0-47fab4233a82",
   "metadata": {},
   "outputs": [],
   "source": []
  }
 ],
 "metadata": {
  "kernelspec": {
   "display_name": "Python 3 (ipykernel)",
   "language": "python",
   "name": "python3"
  },
  "language_info": {
   "codemirror_mode": {
    "name": "ipython",
    "version": 3
   },
   "file_extension": ".py",
   "mimetype": "text/x-python",
   "name": "python",
   "nbconvert_exporter": "python",
   "pygments_lexer": "ipython3",
   "version": "3.12.3"
  }
 },
 "nbformat": 4,
 "nbformat_minor": 5
}
