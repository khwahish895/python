{
 "cells": [
  {
   "cell_type": "code",
   "execution_count": null,
   "id": "ba1eb500-7672-4705-a86f-7b6f6131c7d6",
   "metadata": {},
   "outputs": [],
   "source": [
    "\n"
   ]
  },
  {
   "cell_type": "code",
   "execution_count": 2,
   "id": "e312bac5-6824-4324-93d9-73e8f5604056",
   "metadata": {},
   "outputs": [
    {
     "name": "stdout",
     "output_type": "stream",
     "text": [
      "Requirement already satisfied: twilio in c:\\users\\91960\\anaconda3\\lib\\site-packages (9.6.4)\n",
      "Requirement already satisfied: requests>=2.0.0 in c:\\users\\91960\\anaconda3\\lib\\site-packages (from twilio) (2.32.3)\n",
      "Requirement already satisfied: PyJWT<3.0.0,>=2.0.0 in c:\\users\\91960\\anaconda3\\lib\\site-packages (from twilio) (2.8.0)\n",
      "Requirement already satisfied: aiohttp>=3.8.4 in c:\\users\\91960\\anaconda3\\lib\\site-packages (from twilio) (3.10.5)\n",
      "Requirement already satisfied: aiohttp-retry>=2.8.3 in c:\\users\\91960\\anaconda3\\lib\\site-packages (from twilio) (2.9.1)\n",
      "Requirement already satisfied: aiohappyeyeballs>=2.3.0 in c:\\users\\91960\\anaconda3\\lib\\site-packages (from aiohttp>=3.8.4->twilio) (2.4.0)\n",
      "Requirement already satisfied: aiosignal>=1.1.2 in c:\\users\\91960\\anaconda3\\lib\\site-packages (from aiohttp>=3.8.4->twilio) (1.2.0)\n",
      "Requirement already satisfied: attrs>=17.3.0 in c:\\users\\91960\\anaconda3\\lib\\site-packages (from aiohttp>=3.8.4->twilio) (23.1.0)\n",
      "Requirement already satisfied: frozenlist>=1.1.1 in c:\\users\\91960\\anaconda3\\lib\\site-packages (from aiohttp>=3.8.4->twilio) (1.4.0)\n",
      "Requirement already satisfied: multidict<7.0,>=4.5 in c:\\users\\91960\\anaconda3\\lib\\site-packages (from aiohttp>=3.8.4->twilio) (6.0.4)\n",
      "Requirement already satisfied: yarl<2.0,>=1.0 in c:\\users\\91960\\anaconda3\\lib\\site-packages (from aiohttp>=3.8.4->twilio) (1.11.0)\n",
      "Requirement already satisfied: charset-normalizer<4,>=2 in c:\\users\\91960\\anaconda3\\lib\\site-packages (from requests>=2.0.0->twilio) (3.3.2)\n",
      "Requirement already satisfied: idna<4,>=2.5 in c:\\users\\91960\\anaconda3\\lib\\site-packages (from requests>=2.0.0->twilio) (3.7)\n",
      "Requirement already satisfied: urllib3<3,>=1.21.1 in c:\\users\\91960\\anaconda3\\lib\\site-packages (from requests>=2.0.0->twilio) (2.2.3)\n",
      "Requirement already satisfied: certifi>=2017.4.17 in c:\\users\\91960\\anaconda3\\lib\\site-packages (from requests>=2.0.0->twilio) (2025.6.15)\n",
      "Note: you may need to restart the kernel to use updated packages.\n"
     ]
    }
   ],
   "source": [
    "pip install twilio\n"
   ]
  },
  {
   "cell_type": "code",
   "execution_count": 1,
   "id": "6d212e14-593d-417a-b9d5-21fdfa5cd44e",
   "metadata": {},
   "outputs": [
    {
     "name": "stdout",
     "output_type": "stream",
     "text": [
      " WhatsApp message sent Message SID: SM1be9f93667aff85e8ee341a8264708aa\n"
     ]
    }
   ],
   "source": [
    "\n",
    "from twilio.rest import Client\n",
    "\n",
    "account_sid = 'ACcb2ce42f2a0fa69acb693fcf558df7d5'\n",
    "auth_token = '027009c514ed7410170c4a1483c4a330'\n",
    "\n",
    "client = Client(account_sid, auth_token)\n",
    "\n",
    "message = client.messages.create(\n",
    "    body=\" Hello! This is a WhatsApp message from Python \",\n",
    "    from_='whatsapp:+14155238886',  \n",
    "    to='whatsapp:+917424988589'     \n",
    ")\n",
    "\n",
    "print(\" WhatsApp message sent Message SID:\", message.sid)\n"
   ]
  },
  {
   "cell_type": "code",
   "execution_count": null,
   "id": "32017e39-74a8-4822-b762-5563ca4733d9",
   "metadata": {},
   "outputs": [],
   "source": []
  }
 ],
 "metadata": {
  "kernelspec": {
   "display_name": "Python 3 (ipykernel)",
   "language": "python",
   "name": "python3"
  },
  "language_info": {
   "codemirror_mode": {
    "name": "ipython",
    "version": 3
   },
   "file_extension": ".py",
   "mimetype": "text/x-python",
   "name": "python",
   "nbconvert_exporter": "python",
   "pygments_lexer": "ipython3",
   "version": "3.12.3"
  }
 },
 "nbformat": 4,
 "nbformat_minor": 5
}
