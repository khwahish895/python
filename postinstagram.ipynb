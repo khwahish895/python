{
 "cells": [
  {
   "cell_type": "code",
   "execution_count": null,
   "id": "42868857-ebae-4948-833f-ca771e92972b",
   "metadata": {},
   "outputs": [],
   "source": [
    "from instapy_cli import client\n",
    "\n",
    "\n",
    "username = 'khwahish5632' #your username\n",
    "\n",
    "password = 'NIKKISINGH' #your password \n",
    "\n",
    "image = 'E:\\Khwahish singh\\KHWAHISH PHOTOS ,VIDEOS AND WORK\\PHOTOS\\20240206_210921.jpg' #here you can put the image directory\n",
    "\n",
    "text = 'Here you can put your caption for the post' + '\\r\\n' + 'you can also put your hashtags #pythondeveloper #webdeveloper'\n",
    "\n",
    "\n",
    "with client(username, password) as cli:\n",
    "    cli.upload(image, text)"
   ]
  },
  {
   "cell_type": "code",
   "execution_count": null,
   "id": "5595eae9-b1a2-487b-a467-0ca1473c6d3b",
   "metadata": {},
   "outputs": [],
   "source": [
    "pip install instapy_cli"
   ]
  },
  {
   "cell_type": "code",
   "execution_count": 1,
   "id": "87f719b5-a263-4191-a2c7-74aa7fb1d82d",
   "metadata": {},
   "outputs": [
    {
     "name": "stdin",
     "output_type": "stream",
     "text": [
      "Enter your Instagram password  ········\n",
      "Enter code (6 digits) for khwahish5632 (ChallengeChoice.EMAIL):  289494\n"
     ]
    },
    {
     "name": "stdout",
     "output_type": "stream",
     "text": [
      "Code entered \"289494\" for khwahish5632 (0 attempts by 5 seconds)\n",
      " Uploaded successfully!\n"
     ]
    }
   ],
   "source": [
    "from instagrapi import Client\n",
    "import getpass\n",
    "\n",
    "cl = Client()\n",
    "\n",
    "username = \"khwahish5632\"\n",
    "password = getpass.getpass(\"Enter your Instagram password \")\n",
    "\n",
    "try:\n",
    "    cl.login(username, password)\n",
    "except Exception as e:\n",
    "    print(\"Login failed. Attempting to resolve challenge...\")\n",
    "\n",
    "    cl.challenge_resolve()\n",
    "    cl.login(username, password)\n",
    "\n",
    "photo_path = r\"E:\\Khwahish singh\\KHWAHISH PHOTOS ,VIDEOS AND WORK\\PHOTOS\\20240206_210921.jpg\"\n",
    "caption = \" Posted using instagrapi with challenge solved!\"\n",
    "\n",
    "cl.photo_upload(photo_path, caption)\n",
    "print(\" Uploaded successfully!\")\n"
   ]
  },
  {
   "cell_type": "code",
   "execution_count": null,
   "id": "4bdd84e5-6116-4f0e-b55a-e235de0a79a3",
   "metadata": {},
   "outputs": [],
   "source": []
  }
 ],
 "metadata": {
  "kernelspec": {
   "display_name": "Python 3 (ipykernel)",
   "language": "python",
   "name": "python3"
  },
  "language_info": {
   "codemirror_mode": {
    "name": "ipython",
    "version": 3
   },
   "file_extension": ".py",
   "mimetype": "text/x-python",
   "name": "python",
   "nbconvert_exporter": "python",
   "pygments_lexer": "ipython3",
   "version": "3.12.3"
  }
 },
 "nbformat": 4,
 "nbformat_minor": 5
}
