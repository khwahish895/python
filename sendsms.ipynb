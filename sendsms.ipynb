{
 "cells": [
  {
   "cell_type": "code",
   "execution_count": 2,
   "id": "a3e94911-9780-4898-99c4-4092f555becf",
   "metadata": {},
   "outputs": [
    {
     "name": "stdout",
     "output_type": "stream",
     "text": [
      "Collecting twilio\n",
      "  Using cached twilio-9.6.4-py2.py3-none-any.whl.metadata (13 kB)\n",
      "Requirement already satisfied: requests>=2.0.0 in c:\\users\\91960\\anaconda3\\lib\\site-packages (from twilio) (2.32.3)\n",
      "Requirement already satisfied: PyJWT<3.0.0,>=2.0.0 in c:\\users\\91960\\anaconda3\\lib\\site-packages (from twilio) (2.8.0)\n",
      "Requirement already satisfied: aiohttp>=3.8.4 in c:\\users\\91960\\anaconda3\\lib\\site-packages (from twilio) (3.10.5)\n",
      "Collecting aiohttp-retry>=2.8.3 (from twilio)\n",
      "  Using cached aiohttp_retry-2.9.1-py3-none-any.whl.metadata (8.8 kB)\n",
      "Requirement already satisfied: aiohappyeyeballs>=2.3.0 in c:\\users\\91960\\anaconda3\\lib\\site-packages (from aiohttp>=3.8.4->twilio) (2.4.0)\n",
      "Requirement already satisfied: aiosignal>=1.1.2 in c:\\users\\91960\\anaconda3\\lib\\site-packages (from aiohttp>=3.8.4->twilio) (1.2.0)\n",
      "Requirement already satisfied: attrs>=17.3.0 in c:\\users\\91960\\anaconda3\\lib\\site-packages (from aiohttp>=3.8.4->twilio) (23.1.0)\n",
      "Requirement already satisfied: frozenlist>=1.1.1 in c:\\users\\91960\\anaconda3\\lib\\site-packages (from aiohttp>=3.8.4->twilio) (1.4.0)\n",
      "Requirement already satisfied: multidict<7.0,>=4.5 in c:\\users\\91960\\anaconda3\\lib\\site-packages (from aiohttp>=3.8.4->twilio) (6.0.4)\n",
      "Requirement already satisfied: yarl<2.0,>=1.0 in c:\\users\\91960\\anaconda3\\lib\\site-packages (from aiohttp>=3.8.4->twilio) (1.11.0)\n",
      "Requirement already satisfied: charset-normalizer<4,>=2 in c:\\users\\91960\\anaconda3\\lib\\site-packages (from requests>=2.0.0->twilio) (3.3.2)\n",
      "Requirement already satisfied: idna<4,>=2.5 in c:\\users\\91960\\anaconda3\\lib\\site-packages (from requests>=2.0.0->twilio) (3.7)\n",
      "Requirement already satisfied: urllib3<3,>=1.21.1 in c:\\users\\91960\\anaconda3\\lib\\site-packages (from requests>=2.0.0->twilio) (2.2.3)\n",
      "Requirement already satisfied: certifi>=2017.4.17 in c:\\users\\91960\\anaconda3\\lib\\site-packages (from requests>=2.0.0->twilio) (2025.6.15)\n",
      "Using cached twilio-9.6.4-py2.py3-none-any.whl (1.9 MB)\n",
      "Using cached aiohttp_retry-2.9.1-py3-none-any.whl (10.0 kB)\n",
      "Installing collected packages: aiohttp-retry, twilio\n",
      "Successfully installed aiohttp-retry-2.9.1 twilio-9.6.4\n",
      "Note: you may need to restart the kernel to use updated packages.\n"
     ]
    }
   ],
   "source": [
    "pip install twilio\n"
   ]
  },
  {
   "cell_type": "code",
   "execution_count": 3,
   "id": "1e35b282-3542-458a-b707-d855dcc37774",
   "metadata": {},
   "outputs": [
    {
     "name": "stdout",
     "output_type": "stream",
     "text": [
      " SMS sent successfully!\n",
      "Message SID: SM3f82f71004f537e1d140d74804fb022d\n"
     ]
    }
   ],
   "source": [
    "import smtplib\n",
    "from email.mime.text import MIMEText\n",
    "from email.mime.multipart import MIMEMultipart\n",
    "\n",
    "sender_email = \"khwahishsingh30@gmail.com\"\n",
    "receiver_email = \"khwahishsingh30@gmail.com\"\n",
    "subject = \"Test Email from Python\"\n",
    "body = \"Hello,\\n\\nThis is a test email sent from a Python script.\"\n",
    "\n",
    "\n",
    "app_password = \"jpgr fzfw smqr kiap\"\n",
    "\n",
    "\n",
    "message = MIMEMultipart()\n",
    "message[\"From\"] = sender_email\n",
    "message[\"To\"] = receiver_email\n",
    "message[\"Subject\"] = subject\n",
    "\n",
    "\n",
    "message.attach(MIMEText(body, \"plain\"))\n",
    "\n",
    "\n",
    "try:\n",
    "    server = smtplib.SMTP(\"smtp.gmail.com\", 587)\n",
    "    server.starttls()  # Secure the connection\n",
    "    server.login(sender_email, app_password)\n",
    "    server.sendmail(sender_email, receiver_email, message.as_string())\n",
    "    print(\"Email sent successfully!\")\n",
    "except Exception as e:\n",
    "    print(f\"Failed to send email: {e}\")\n",
    "finally:\n",
    "    server.quit()\n"
   ]
  },
  {
   "cell_type": "code",
   "execution_count": null,
   "id": "16cf43a1-d20f-424e-97e6-df2bd501c28c",
   "metadata": {},
   "outputs": [],
   "source": [
    "\n"
   ]
  },
  {
   "cell_type": "code",
   "execution_count": null,
   "id": "872bcb46-fb54-4ca4-a9ba-5ff7c9caf3d2",
   "metadata": {},
   "outputs": [],
   "source": []
  },
  {
   "cell_type": "code",
   "execution_count": null,
   "id": "7751c154-0fb7-4e51-a6b8-69b5106375ce",
   "metadata": {},
   "outputs": [],
   "source": []
  }
 ],
 "metadata": {
  "kernelspec": {
   "display_name": "Python 3 (ipykernel)",
   "language": "python",
   "name": "python3"
  },
  "language_info": {
   "codemirror_mode": {
    "name": "ipython",
    "version": 3
   },
   "file_extension": ".py",
   "mimetype": "text/x-python",
   "name": "python",
   "nbconvert_exporter": "python",
   "pygments_lexer": "ipython3",
   "version": "3.12.3"
  }
 },
 "nbformat": 4,
 "nbformat_minor": 5
}
