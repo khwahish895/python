{
 "cells": [
  {
   "cell_type": "code",
   "execution_count": 6,
   "id": "3419ecc1-6209-4420-8cae-010fcfccb19b",
   "metadata": {},
   "outputs": [
    {
     "ename": "SyntaxError",
     "evalue": "invalid syntax (702290321.py, line 32)",
     "output_type": "error",
     "traceback": [
      "\u001b[1;36m  Cell \u001b[1;32mIn[6], line 32\u001b[1;36m\u001b[0m\n\u001b[1;33m    streamlit run C:\\Users\\91960\\anaconda3\\Lib\\site-packages\\\u001b[0m\n\u001b[1;37m              ^\u001b[0m\n\u001b[1;31mSyntaxError\u001b[0m\u001b[1;31m:\u001b[0m invalid syntax\n"
     ]
    }
   ],
   "source": [
    "import streamlit as st\n",
    "import pandas as pd\n",
    "from sklearn.linear_model import LinearRegression\n",
    "import matplotlib.pyplot as plt\n",
    "\n",
    "st.title(\"Marks prediction\")\n",
    "\n",
    "hr = st.text_input(\"Enter the no. of hrs of study\", \"6\")\n",
    "\n",
    "if st.button(\"submit\"):\n",
    "    dataset = pd.read_csv('khwahish.csv')\n",
    "    X = dataset[['Hours']].values\n",
    "    y = dataset['Scores'].values\n",
    "\n",
    "    brain = LinearRegression()\n",
    "    brain.fit(X, y)\n",
    "\n",
    "    hrs_val = float(hr)\n",
    "    pred = brain.predict([[hrs_val]])[0]\n",
    "\n",
    "    st.write(\"Predicted marks:\", round(pred, 2))\n",
    "\n",
    "    # Create and display the matplotlib plot\n",
    "    fig, ax = plt.subplots()\n",
    "    ax.scatter(dataset['Hours'], dataset['Scores'], label='Data points')\n",
    "    ax.plot(dataset['Hours'], brain.predict(X), color='red', label='Regression line')\n",
    "    ax.set_xlabel(\"Hours of Study\")\n",
    "    ax.set_ylabel(\"Marks Scored\")\n",
    "    ax.legend()\n",
    "    st.pyplot(fig)\n",
    "\n",
    "streamlit run C:\\Users\\91960\\anaconda3\\Lib\\site-packages\\\n"
   ]
  },
  {
   "cell_type": "code",
   "execution_count": null,
   "id": "16a36f5a-5c30-422b-bc52-8fc58d8e5e8f",
   "metadata": {},
   "outputs": [],
   "source": []
  },
  {
   "cell_type": "code",
   "execution_count": null,
   "id": "f1a9d2c4-c2bd-48cc-ae54-4032999a1f6b",
   "metadata": {},
   "outputs": [],
   "source": []
  }
 ],
 "metadata": {
  "kernelspec": {
   "display_name": "Python 3 (ipykernel)",
   "language": "python",
   "name": "python3"
  },
  "language_info": {
   "codemirror_mode": {
    "name": "ipython",
    "version": 3
   },
   "file_extension": ".py",
   "mimetype": "text/x-python",
   "name": "python",
   "nbconvert_exporter": "python",
   "pygments_lexer": "ipython3",
   "version": "3.12.3"
  }
 },
 "nbformat": 4,
 "nbformat_minor": 5
}
